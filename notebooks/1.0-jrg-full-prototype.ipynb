{
 "cells": [
  {
   "cell_type": "markdown",
   "metadata": {},
   "source": [
    "# Indicator Exploration\n",
    "\n",
    "*Justin R. Garrard*"
   ]
  },
  {
   "cell_type": "markdown",
   "metadata": {},
   "source": [
    "### *Executive Summary*\n",
    "\n"
   ]
  },
  {
   "cell_type": "markdown",
   "metadata": {},
   "source": [
    "### *Objectives*\n",
    "\n"
   ]
  },
  {
   "cell_type": "markdown",
   "metadata": {},
   "source": [
    "### Setup"
   ]
  },
  {
   "cell_type": "code",
   "execution_count": 11,
   "metadata": {},
   "outputs": [],
   "source": [
    "# Import libraries\n",
    "import os \n",
    "import math\n",
    "import pprint\n",
    "import numpy as np\n",
    "import pandas as pd\n",
    "import matplotlib.pyplot as plt\n",
    "import seaborn as sns \n",
    "import statsmodels.api as sm\n",
    "from ipywidgets import * \n",
    "from sklearn.cluster import KMeans, AgglomerativeClustering\n",
    "from sklearn.linear_model import LinearRegression\n",
    "from sklearn import preprocessing\n",
    "from sklearn.metrics import mean_squared_error\n",
    "from sklearn.tree import DecisionTreeClassifier, plot_tree\n",
    "from scipy.cluster.hierarchy import dendrogram"
   ]
  },
  {
   "cell_type": "code",
   "execution_count": 2,
   "metadata": {},
   "outputs": [],
   "source": [
    "# Declare global variables\n",
    "DATA_DIR = os.path.join('../data/processed')\n",
    "DATA_FILE = os.path.join(DATA_DIR, 'processed_features.csv')\n",
    "plt.style.use('ggplot')"
   ]
  },
  {
   "cell_type": "code",
   "execution_count": 3,
   "metadata": {},
   "outputs": [],
   "source": [
    "# Useful functions\n",
    "def null_counter(df):\n",
    "    record_nulls = []\n",
    "    for col in df.columns:\n",
    "        nulls = df[col].isnull().sum()\n",
    "        percent_null = round((nulls / df.shape[0]) * 100, 2)\n",
    "        record_nulls.append([col, nulls, percent_null])\n",
    "    output = pd.DataFrame(record_nulls, columns=['Attribute', 'Null Count', '% Null'])\n",
    "    return output\n",
    "\n",
    "def get_year_range(df):\n",
    "    year_range = list(df['year'].unique())\n",
    "    year_range.sort()\n",
    "    return year_range\n",
    "\n",
    "def subset_by_states_only(df):\n",
    "    df = df[df['fips'] <= 56]\n",
    "    return df\n",
    "\n",
    "def sound_off(df):\n",
    "    nRow, nCol = cluster_df.shape\n",
    "    print(f'There are {nRow} rows and {nCol} columns.')\n",
    "    print('')\n",
    "\n",
    "    YEAR_RANGE = get_year_range(cluster_df)\n",
    "    print(f'Data spans the years {YEAR_RANGE[0]} to {YEAR_RANGE[-1]}.')\n",
    "    print('')\n",
    "\n",
    "    print('Available columns include:')\n",
    "    display(null_counter(cluster_df))\n",
    "    \n",
    "def filter_out_factor(df, column_name):\n",
    "    ## Identify records with null values in column\n",
    "    bad_records = df[df[column_name].isnull()]\n",
    "    bad_records.to_csv(f'missing_{column_name}.csv')\n",
    "\n",
    "    ## Drop records with null values in column\n",
    "    df = df[df[column_name].notnull()]\n",
    "    return df"
   ]
  },
  {
   "cell_type": "code",
   "execution_count": 4,
   "metadata": {},
   "outputs": [
    {
     "name": "stdout",
     "output_type": "stream",
     "text": [
      "There are 116444 rows and 12 columns.\n",
      "\n",
      "Data spans the years 2009 to 2016.\n",
      "\n",
      "Available columns include:\n"
     ]
    },
    {
     "data": {
      "text/html": [
       "<div>\n",
       "<style scoped>\n",
       "    .dataframe tbody tr th:only-of-type {\n",
       "        vertical-align: middle;\n",
       "    }\n",
       "\n",
       "    .dataframe tbody tr th {\n",
       "        vertical-align: top;\n",
       "    }\n",
       "\n",
       "    .dataframe thead th {\n",
       "        text-align: right;\n",
       "    }\n",
       "</style>\n",
       "<table border=\"1\" class=\"dataframe\">\n",
       "  <thead>\n",
       "    <tr style=\"text-align: right;\">\n",
       "      <th></th>\n",
       "      <th>Attribute</th>\n",
       "      <th>Null Count</th>\n",
       "      <th>% Null</th>\n",
       "    </tr>\n",
       "  </thead>\n",
       "  <tbody>\n",
       "    <tr>\n",
       "      <th>0</th>\n",
       "      <td>leaid</td>\n",
       "      <td>0</td>\n",
       "      <td>0.0</td>\n",
       "    </tr>\n",
       "    <tr>\n",
       "      <th>1</th>\n",
       "      <td>year</td>\n",
       "      <td>0</td>\n",
       "      <td>0.0</td>\n",
       "    </tr>\n",
       "    <tr>\n",
       "      <th>2</th>\n",
       "      <td>lea_name</td>\n",
       "      <td>0</td>\n",
       "      <td>0.0</td>\n",
       "    </tr>\n",
       "    <tr>\n",
       "      <th>3</th>\n",
       "      <td>fips</td>\n",
       "      <td>0</td>\n",
       "      <td>0.0</td>\n",
       "    </tr>\n",
       "    <tr>\n",
       "      <th>4</th>\n",
       "      <td>number_of_schools</td>\n",
       "      <td>0</td>\n",
       "      <td>0.0</td>\n",
       "    </tr>\n",
       "    <tr>\n",
       "      <th>5</th>\n",
       "      <td>teachers_total_fte</td>\n",
       "      <td>0</td>\n",
       "      <td>0.0</td>\n",
       "    </tr>\n",
       "    <tr>\n",
       "      <th>6</th>\n",
       "      <td>spec_ed_students</td>\n",
       "      <td>0</td>\n",
       "      <td>0.0</td>\n",
       "    </tr>\n",
       "    <tr>\n",
       "      <th>7</th>\n",
       "      <td>enrollment_x</td>\n",
       "      <td>0</td>\n",
       "      <td>0.0</td>\n",
       "    </tr>\n",
       "    <tr>\n",
       "      <th>8</th>\n",
       "      <td>read_test_pct_prof_midpt</td>\n",
       "      <td>0</td>\n",
       "      <td>0.0</td>\n",
       "    </tr>\n",
       "    <tr>\n",
       "      <th>9</th>\n",
       "      <td>math_test_pct_prof_midpt</td>\n",
       "      <td>0</td>\n",
       "      <td>0.0</td>\n",
       "    </tr>\n",
       "    <tr>\n",
       "      <th>10</th>\n",
       "      <td>rev_total</td>\n",
       "      <td>0</td>\n",
       "      <td>0.0</td>\n",
       "    </tr>\n",
       "    <tr>\n",
       "      <th>11</th>\n",
       "      <td>exp_total</td>\n",
       "      <td>0</td>\n",
       "      <td>0.0</td>\n",
       "    </tr>\n",
       "  </tbody>\n",
       "</table>\n",
       "</div>"
      ],
      "text/plain": [
       "                   Attribute  Null Count  % Null\n",
       "0                      leaid           0     0.0\n",
       "1                       year           0     0.0\n",
       "2                   lea_name           0     0.0\n",
       "3                       fips           0     0.0\n",
       "4          number_of_schools           0     0.0\n",
       "5         teachers_total_fte           0     0.0\n",
       "6           spec_ed_students           0     0.0\n",
       "7               enrollment_x           0     0.0\n",
       "8   read_test_pct_prof_midpt           0     0.0\n",
       "9   math_test_pct_prof_midpt           0     0.0\n",
       "10                 rev_total           0     0.0\n",
       "11                 exp_total           0     0.0"
      ]
     },
     "metadata": {},
     "output_type": "display_data"
    }
   ],
   "source": [
    "# Load and preview data\n",
    "## Isolate by specific columns\n",
    "cluster_df = pd.read_csv(DATA_FILE)\n",
    "\n",
    "sound_off(cluster_df)"
   ]
  },
  {
   "cell_type": "code",
   "execution_count": 5,
   "metadata": {},
   "outputs": [],
   "source": [
    "# Remove the columns that won't be used as features\n",
    "cluster_prepared_df = cluster_df.drop(['leaid', 'year', 'lea_name', 'fips'], axis=1)"
   ]
  },
  {
   "cell_type": "markdown",
   "metadata": {},
   "source": [
    "### Modeling"
   ]
  },
  {
   "cell_type": "code",
   "execution_count": 7,
   "metadata": {},
   "outputs": [],
   "source": [
    "# Build an elbow chart to find a good cluster range\n",
    "def build_elbow_chart(df, min_clusters=2, max_clusters=10, random_seed=777):\n",
    "    ## Calculate sum of squared distances for each cluster\n",
    "    ssd = []\n",
    "    for k in range(min_clusters, max_clusters+1):\n",
    "        kmeans_learner = KMeans(n_clusters=k, random_state=random_seed)\n",
    "        kmeans_learner.fit(df)\n",
    "        ssd.append(kmeans_learner.inertia_)\n",
    "\n",
    "    ## Plot sum of squared distances\n",
    "    plt.plot(range(min_clusters, max_clusters+1), ssd)\n",
    "    plt.title('Elbow Chart')\n",
    "    plt.xlabel('K')\n",
    "    plt.ylabel('Sum of Squared Distances')\n",
    "    \n",
    "    \n",
    "# Build a good cluster and view the resulting data\n",
    "def build_cluster(df, k=6, random_seed=777):\n",
    "    kmeans_learner = KMeans(n_clusters=k, random_state=random_seed)\n",
    "    results = kmeans_learner.fit_predict(df)\n",
    "    return results\n",
    "\n",
    "\n",
    "# View the characteristics of each labeled dataset\n",
    "def view_cluster(df, results, k=6):\n",
    "    df['labels'] = results\n",
    "    for i in range(0, k):\n",
    "        subset = df[df['labels'] == i]\n",
    "        subset.to_csv(f'labeled_{i}.csv')\n",
    "        print(i)\n",
    "        display(subset.describe())\n",
    "        print()"
   ]
  },
  {
   "cell_type": "code",
   "execution_count": 6,
   "metadata": {},
   "outputs": [
    {
     "name": "stdout",
     "output_type": "stream",
     "text": [
      "[27310, 37561, 38079, 13386]\n"
     ]
    }
   ],
   "source": [
    "# Place data into four categories, to prevent clustering from emphasizing size\n",
    "single_df = cluster_prepared_df[cluster_prepared_df['number_of_schools'] == 1]\n",
    "\n",
    "small_df = cluster_prepared_df[(cluster_prepared_df['number_of_schools'] > 1) & \n",
    "                               (cluster_prepared_df['number_of_schools'] <= 3)]\n",
    "\n",
    "medium_df = cluster_prepared_df[(cluster_prepared_df['number_of_schools'] > 3) & \n",
    "                               (cluster_prepared_df['number_of_schools'] <= 10)]\n",
    "\n",
    "large_df = cluster_prepared_df[(cluster_prepared_df['number_of_schools'] > 10)]\n",
    "\n",
    "df_list = [single_df, small_df, medium_df, large_df]\n",
    "counts = [x['number_of_schools'].count() for x in df_list]\n",
    "print(counts)"
   ]
  },
  {
   "cell_type": "code",
   "execution_count": 9,
   "metadata": {},
   "outputs": [],
   "source": [
    "# Normalize within clusters to detect patterns besides size\n",
    "normed_df_list = []\n",
    "for df in df_list:\n",
    "        normed_df_list.append(preprocessing.StandardScaler().fit_transform(df))"
   ]
  },
  {
   "cell_type": "code",
   "execution_count": 12,
   "metadata": {},
   "outputs": [
    {
     "data": {
      "image/png": "[encoded data removed]",
      "text/plain": [
       "<Figure size 432x288 with 1 Axes>"
      ]
     },
     "metadata": {},
     "output_type": "display_data"
    }
   ],
   "source": [
    "build_elbow_chart(normed_df_list[0])"
   ]
  },
  {
   "cell_type": "code",
   "execution_count": 13,
   "metadata": {},
   "outputs": [
    {
     "data": {
      "image/png": "[encoded data removed]",
      "text/plain": [
       "<Figure size 432x288 with 1 Axes>"
      ]
     },
     "metadata": {},
     "output_type": "display_data"
    }
   ],
   "source": [
    "build_elbow_chart(normed_df_list[1])"
   ]
  },
  {
   "cell_type": "code",
   "execution_count": 14,
   "metadata": {},
   "outputs": [
    {
     "data": {
      "image/png": "[encoded data removed]",
      "text/plain": [
       "<Figure size 432x288 with 1 Axes>"
      ]
     },
     "metadata": {},
     "output_type": "display_data"
    }
   ],
   "source": [
    "build_elbow_chart(normed_df_list[2])"
   ]
  },
  {
   "cell_type": "code",
   "execution_count": 15,
   "metadata": {},
   "outputs": [
    {
     "data": {
      "image/png": "[encoded data removed]",
      "text/plain": [
       "<Figure size 432x288 with 1 Axes>"
      ]
     },
     "metadata": {},
     "output_type": "display_data"
    }
   ],
   "source": [
    "build_elbow_chart(normed_df_list[3])"
   ]
  },
  {
   "cell_type": "code",
   "execution_count": 16,
   "metadata": {},
   "outputs": [],
   "source": [
    "results = []\n",
    "for df in normed_df_list:\n",
    "    results.append(build_cluster(df, k=4))"
   ]
  },
  {
   "cell_type": "markdown",
   "metadata": {},
   "source": [
    "---\n",
    "Analysis (Category)\n",
    "---"
   ]
  },
  {
   "cell_type": "code",
   "execution_count": 28,
   "metadata": {},
   "outputs": [
    {
     "data": {
      "application/vnd.jupyter.widget-view+json": {
       "model_id": "1035b567fb124b76a1bc411208576d32",
       "version_major": 2,
       "version_minor": 0
      },
      "text/plain": [
       "interactive(children=(Dropdown(description='metric', options=('number_of_schools', 'teachers_total_fte', 'spec…"
      ]
     },
     "metadata": {},
     "output_type": "display_data"
    }
   ],
   "source": [
    "# Box Plot\n",
    "\n",
    "# Interactive Box Plot for Indicators\n",
    "%matplotlib notebook\n",
    "\n",
    "metrics = list(cluster_prepared_df.columns)\n",
    "category = [0, 1, 2, 3]\n",
    "category_mapping = {0: \"Single\", 1: \"Small\", 2: \"Medium\", 3: \"Large\"}\n",
    "\n",
    "@interact(metric=metrics)\n",
    "def cat_box_metric_explorer(metric):\n",
    "    # Clear any old figures\n",
    "    plt.close()\n",
    "    \n",
    "    # Make a plot to match states to the chosen metric\n",
    "    plt.figure(figsize=(6, 4), num='Boxplot Explorer Tool')\n",
    "    \n",
    "    plot_data = [category_df[metric] for category_df in df_list]\n",
    "\n",
    "    plt.boxplot(plot_data)\n",
    "    plt.title(f'Category: {metric}')\n",
    "    \n",
    "interactive_plot = interactive(cat_box_metric_explorer,\n",
    "                               metric=metrics[0])"
   ]
  },
  {
   "cell_type": "markdown",
   "metadata": {},
   "source": [
    "---\n",
    "Analysis (Sub-Category)\n",
    "---"
   ]
  },
  {
   "cell_type": "code",
   "execution_count": 26,
   "metadata": {
    "scrolled": false
   },
   "outputs": [
    {
     "data": {
      "application/vnd.jupyter.widget-view+json": {
       "model_id": "52318ed473794753a2b076fd304314d2",
       "version_major": 2,
       "version_minor": 0
      },
      "text/plain": [
       "interactive(children=(Dropdown(description='metric', options=('number_of_schools', 'teachers_total_fte', 'spec…"
      ]
     },
     "metadata": {},
     "output_type": "display_data"
    }
   ],
   "source": [
    "# Box Plot\n",
    "\n",
    "# Interactive Box Plot for Indicators\n",
    "%matplotlib notebook\n",
    "\n",
    "metrics = list(cluster_prepared_df.columns)\n",
    "category = [0, 1, 2, 3]\n",
    "category_mapping = {0: \"Single\", 1: \"Small\", 2: \"Medium\", 3: \"Large\"}\n",
    "\n",
    "@interact(metric=metrics, cat=category)\n",
    "def box_metric_explorer(metric, cat):\n",
    "    # Clear any old figures\n",
    "    plt.close()\n",
    "    \n",
    "    # Make a plot to match states to the chosen metric\n",
    "    plt.figure(figsize=(6, 4), num='Boxplot Explorer Tool')\n",
    "    \n",
    "    # Select category data\n",
    "    cluster_count = len(np.unique(results[cat]))\n",
    "    category_df = df_list[cat]\n",
    "    view_cluster(category_df, results[cat], k=cluster_count)\n",
    "    \n",
    "    # Subset sub-categories\n",
    "    sub_categories = [category_df[category_df['labels'] == i] for i in range(0,cluster_count)]\n",
    "    \n",
    "    # Subset metric\n",
    "    plot_data = [sub_df[metric] for sub_df in sub_categories]\n",
    "\n",
    "    plt.boxplot(plot_data)\n",
    "    plt.title(f'{category_mapping[cat]} Category: {metric}')\n",
    "    \n",
    "interactive_plot = interactive(box_metric_explorer,\n",
    "                               metric=metrics[0],\n",
    "                               cat=category[0])"
   ]
  },
  {
   "cell_type": "code",
   "execution_count": null,
   "metadata": {},
   "outputs": [],
   "source": []
  }
 ],
 "metadata": {
  "kernelspec": {
   "display_name": "Python 3",
   "language": "python",
   "name": "python3"
  },
  "language_info": {
   "codemirror_mode": {
    "name": "ipython",
    "version": 3
   },
   "file_extension": ".py",
   "mimetype": "text/x-python",
   "name": "python",
   "nbconvert_exporter": "python",
   "pygments_lexer": "ipython3",
   "version": "3.8.5"
  },
  "toc-showtags": true
 },
 "nbformat": 4,
 "nbformat_minor": 4
}
